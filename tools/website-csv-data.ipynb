{
 "cells": [
  {
   "cell_type": "code",
   "execution_count": null,
   "metadata": {},
   "outputs": [],
   "source": [
    "import pandas as pd\n",
    "\n",
    "pd.set_option(\"display.max_columns\", None)  # Show all columns\n",
    "pd.set_option(\"display.max_rows\", None)  # Show all rows\n",
    "pd.set_option(\"display.width\", None)  # Set width to expand to full display\n",
    "pd.set_option(\"display.max_colwidth\", None)"
   ]
  },
  {
   "cell_type": "code",
   "execution_count": null,
   "metadata": {},
   "outputs": [],
   "source": [
    "# Load the user's uploaded file\n",
    "file_path = \"./Actual Generation per Production Type_202401010000-202401020000.csv\"  # this is portugal data\n",
    "data = pd.read_csv(file_path)\n",
    "\n",
    "# Display the first few rows to understand the structure of the data\n",
    "data.head()"
   ]
  },
  {
   "cell_type": "code",
   "execution_count": null,
   "metadata": {},
   "outputs": [],
   "source": [
    "# Filter columns that represent \"Actual Aggregated [MW]\" values\n",
    "aggregated_columns = [col for col in data.columns if \"Actual Aggregated [MW]\" in col]\n",
    "\n",
    "# Convert columns to numeric, replacing non-numeric values (like 'n/e') with 0, then sum per row\n",
    "data[aggregated_columns] = (\n",
    "    data[aggregated_columns].apply(pd.to_numeric, errors=\"coerce\").fillna(0)\n",
    ")\n",
    "data[\"Total Actual Aggregated [MW]\"] = data[aggregated_columns].sum(axis=1)\n",
    "\n",
    "data[\"start_time\"] = pd.to_datetime(\n",
    "    data[\"MTU\"].str.split(\" - \").str[0], format=\"%d.%m.%Y %H:%M\"\n",
    ")\n",
    "data.set_index(\"start_time\", inplace=True)\n",
    "\n",
    "# Display the resulting sum for each time interval\n",
    "data[[\"MTU\", \"Total Actual Aggregated [MW]\"]].head()"
   ]
  },
  {
   "cell_type": "code",
   "execution_count": null,
   "metadata": {},
   "outputs": [],
   "source": [
    "file_path_2 = \"./Actual Generation per Production Type_202401010000-202401020000 (1).csv\"  # this is spain data\n",
    "data_2 = pd.read_csv(file_path_2)\n",
    "data_2.head()"
   ]
  },
  {
   "cell_type": "code",
   "execution_count": null,
   "metadata": {},
   "outputs": [],
   "source": [
    "numbers = [\n",
    "    float(x)\n",
    "    for x in \"235.0\t0.0\t0.0\t4331.0\t275.0\t20.0\t0.0\t0.0\t0.0\t663.5\t964.0\t2011.0\t0.0\t7096.0\t74.0\t28.0\t247.0\t0.0\t5656.0\t0.0\".split()\n",
    "]\n",
    "total = sum(numbers)\n",
    "print(f\"Sum: {total}\")"
   ]
  },
  {
   "cell_type": "code",
   "execution_count": null,
   "metadata": {},
   "outputs": [],
   "source": [
    "# Parse the 'MTU' column to extract date and time for resampling\n",
    "# Extract start time of each interval from 'MTU' and convert to datetime\n",
    "data_2[\"Start Time\"] = pd.to_datetime(\n",
    "    data_2[\"MTU\"].str.split(\" - \").str[0], format=\"%d.%m.%Y %H:%M\"\n",
    ")\n",
    "\n",
    "# Set 'Start Time' as index for resampling\n",
    "data_2.set_index(\"Start Time\", inplace=True)\n",
    "\n",
    "# Filter columns that represent \"Actual Aggregated [MW]\" values\n",
    "aggregated_columns_2 = [\n",
    "    col for col in data_2.columns if \"Actual Aggregated [MW]\" in col\n",
    "]\n",
    "\n",
    "# Convert columns to numeric, handling non-numeric values\n",
    "data_2[aggregated_columns_2] = (\n",
    "    data_2[aggregated_columns_2].apply(pd.to_numeric, errors=\"coerce\").fillna(0)\n",
    ")\n",
    "\n",
    "# Resample to hourly intervals by taking the mean within each hour\n",
    "data_2_hourly = data_2[aggregated_columns_2].resample(\"H\").mean()\n",
    "\n",
    "data_2_hourly.head()\n",
    "\n",
    "# # Calculate total \"Actual Aggregated [MW]\" by summing across all sources for each hour\n",
    "# data_hourly['Total Actual Aggregated [MW]'] = data_hourly.sum(axis=1)\n",
    "\n",
    "# # Display the resulting sum for each hour\n",
    "# data_hourly[['Total Actual Aggregated [MW]']].head()"
   ]
  },
  {
   "cell_type": "code",
   "execution_count": null,
   "metadata": {},
   "outputs": [],
   "source": [
    "data_2_hourly.sum(axis=1)"
   ]
  },
  {
   "cell_type": "code",
   "execution_count": null,
   "metadata": {},
   "outputs": [],
   "source": [
    "# Calculate the nuclear fraction for each hour\n",
    "nuclear_column = [col for col in data_2_hourly.columns if \"Nuclear\" in col][\n",
    "    0\n",
    "]  # Get the nuclear column name\n",
    "data_2_hourly[\"Total Generation\"] = data_2_hourly.sum(\n",
    "    axis=1\n",
    ")  # Calculate total generation\n",
    "data_2_hourly[\"Nuclear Fraction\"] = (\n",
    "    data_2_hourly[nuclear_column] / data_2_hourly[\"Total Generation\"]\n",
    ")\n",
    "\n",
    "# Display the nuclear fraction for each hour\n",
    "print(\"Nuclear fraction of total generation by hour:\")\n",
    "print(data_2_hourly[\"Nuclear Fraction\"].head())"
   ]
  },
  {
   "cell_type": "code",
   "execution_count": null,
   "metadata": {},
   "outputs": [],
   "source": [
    "# data_2_hourly[nuclear_column]\n",
    "data_2_hourly.iloc[0]"
   ]
  },
  {
   "cell_type": "code",
   "execution_count": null,
   "metadata": {},
   "outputs": [],
   "source": [
    "import pandas as pd\n",
    "\n",
    "# Load the user's uploaded file\n",
    "file_path = \"./Cross-Border Physical Flow_202401010000-202401020000.csv\"\n",
    "data_3 = pd.read_csv(file_path)\n",
    "\n",
    "# Display the first few rows to understand the structure of the data\n",
    "data_3.head()"
   ]
  },
  {
   "cell_type": "code",
   "execution_count": null,
   "metadata": {},
   "outputs": [],
   "source": [
    "# Parse the time column to get start times\n",
    "data_3[\"start_time\"] = pd.to_datetime(\n",
    "    data_3[\"Time (UTC)\"].str.split(\" - \").str[0], format=\"%d.%m.%Y %H:%M\"\n",
    ")\n",
    "\n",
    "# Set start_time as index to align with nuclear fraction data_3\n",
    "data_3.set_index(\"start_time\", inplace=True)\n",
    "\n",
    "# Calculate nuclear power flow from ES to PT\n",
    "# Nuclear fraction * Flow from ES to PT\n",
    "nuclear_flow = data_3[\"BZN|ES > BZN|PT [MW]\"] * data_2_hourly[\"Nuclear Fraction\"]\n",
    "\n",
    "print(\"\\nEstimated nuclear power flow from ES to PT (MW):\")\n",
    "print(nuclear_flow.head())"
   ]
  },
  {
   "cell_type": "code",
   "execution_count": null,
   "metadata": {},
   "outputs": [],
   "source": [
    "# Calculate total Portuguese power consumption\n",
    "# Total consumption = Power generated in Portugal + Power flowing from Spain - Power flowing to Spain\n",
    "portuguese_consumption = (\n",
    "    data[\"Total Actual Aggregated [MW]\"]\n",
    "    + data_3[\"BZN|ES > BZN|PT [MW]\"]\n",
    "    - data_3[\"BZN|PT > BZN|ES [MW]\"]\n",
    ")\n",
    "\n",
    "# Calculate percentage of nuclear power in Portuguese consumption\n",
    "nuclear_percentage = (nuclear_flow / portuguese_consumption) * 100\n",
    "\n",
    "print(\"\\nPercentage of Portuguese power consumption from Spanish nuclear:\")\n",
    "print(nuclear_percentage.head())\n",
    "print(\"\\nSummary statistics:\")\n",
    "print(f\"Mean: {nuclear_percentage.mean():.2f}%\")\n",
    "print(f\"Max: {nuclear_percentage.max():.2f}%\")\n",
    "print(f\"Min: {nuclear_percentage.min():.2f}%\")"
   ]
  },
  {
   "cell_type": "code",
   "execution_count": null,
   "metadata": {},
   "outputs": [],
   "source": []
  }
 ],
 "metadata": {
  "kernelspec": {
   "display_name": ".venv",
   "language": "python",
   "name": "python3"
  },
  "language_info": {
   "codemirror_mode": {
    "name": "ipython",
    "version": 3
   },
   "file_extension": ".py",
   "mimetype": "text/x-python",
   "name": "python",
   "nbconvert_exporter": "python",
   "pygments_lexer": "ipython3",
   "version": "3.11.7"
  }
 },
 "nbformat": 4,
 "nbformat_minor": 2
}
